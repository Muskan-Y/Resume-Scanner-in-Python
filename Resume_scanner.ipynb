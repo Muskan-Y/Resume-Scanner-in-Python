{
  "nbformat": 4,
  "nbformat_minor": 0,
  "metadata": {
    "colab": {
      "provenance": [],
      "authorship_tag": "ABX9TyMtSiNytIiUsf1pxQVP7fyu",
      "include_colab_link": true
    },
    "kernelspec": {
      "name": "python3",
      "display_name": "Python 3"
    },
    "language_info": {
      "name": "python"
    }
  },
  "cells": [
    {
      "cell_type": "markdown",
      "metadata": {
        "id": "view-in-github",
        "colab_type": "text"
      },
      "source": [
        "<a href=\"https://colab.research.google.com/github/Muskan-Y/Resume-Scanner-in-Python/blob/main/Resume_scanner.ipynb\" target=\"_parent\"><img src=\"https://colab.research.google.com/assets/colab-badge.svg\" alt=\"Open In Colab\"/></a>"
      ]
    },
    {
      "cell_type": "code",
      "execution_count": 1,
      "metadata": {
        "colab": {
          "base_uri": "https://localhost:8080/"
        },
        "id": "p1sssWL-lxSC",
        "outputId": "e9254a87-deaa-41c3-b029-cec8927bbd7b"
      },
      "outputs": [
        {
          "output_type": "stream",
          "name": "stdout",
          "text": [
            "Collecting docx2txt\n",
            "  Downloading docx2txt-0.8.tar.gz (2.8 kB)\n",
            "  Preparing metadata (setup.py) ... \u001b[?25l\u001b[?25hdone\n",
            "Building wheels for collected packages: docx2txt\n",
            "  Building wheel for docx2txt (setup.py) ... \u001b[?25l\u001b[?25hdone\n",
            "  Created wheel for docx2txt: filename=docx2txt-0.8-py3-none-any.whl size=3957 sha256=a2e96647ec2ce5212886fafd34f2035c0587739e01a3b89d4cfc0f548dcf3d10\n",
            "  Stored in directory: /root/.cache/pip/wheels/22/58/cf/093d0a6c3ecfdfc5f6ddd5524043b88e59a9a199cb02352966\n",
            "Successfully built docx2txt\n",
            "Installing collected packages: docx2txt\n",
            "Successfully installed docx2txt-0.8\n"
          ]
        }
      ],
      "source": [
        "# !pip install docx2txt\n",
        "# import docx2txt"
      ]
    },
    {
      "cell_type": "markdown",
      "source": [
        "**USE THE ABOVE CELL IF YOU ARE HANDLING A DOC FILE **"
      ],
      "metadata": {
        "id": "0FRuSG_EqcT7"
      }
    },
    {
      "cell_type": "markdown",
      "source": [
        "**CREATE SAMPLE JD AND RESUME**"
      ],
      "metadata": {
        "id": "RIaqVjrbqVJp"
      }
    },
    {
      "cell_type": "code",
      "source": [
        "job_description = '/content/sample_description'\n",
        "resume = '/content/COPY+OF+MY+Resume.pdf'"
      ],
      "metadata": {
        "id": "Gjn7lumrmIkP"
      },
      "execution_count": 2,
      "outputs": []
    },
    {
      "cell_type": "code",
      "source": [
        "print(resume)"
      ],
      "metadata": {
        "colab": {
          "base_uri": "https://localhost:8080/"
        },
        "id": "pe8t8e9En19Z",
        "outputId": "c2770d44-268d-4b1d-f61b-b451f19591a7"
      },
      "execution_count": 3,
      "outputs": [
        {
          "output_type": "stream",
          "name": "stdout",
          "text": [
            "/content/COPY+OF+MY+Resume.pdf\n"
          ]
        }
      ]
    },
    {
      "cell_type": "code",
      "source": [
        "content = [job_description,resume]"
      ],
      "metadata": {
        "id": "3F3CfHn4n-F4"
      },
      "execution_count": 4,
      "outputs": []
    },
    {
      "cell_type": "code",
      "source": [
        "from sklearn.feature_extraction.text import CountVectorizer\n",
        "cv = CountVectorizer()\n",
        "matrix = cv.fit_transform(content)"
      ],
      "metadata": {
        "id": "vXCYFqV2oHqN"
      },
      "execution_count": 5,
      "outputs": []
    },
    {
      "cell_type": "code",
      "source": [
        "from sklearn.metrics.pairwise import cosine_similarity\n",
        "similarity_matrix = cosine_similarity(matrix)"
      ],
      "metadata": {
        "id": "EkiZq7o_oin7"
      },
      "execution_count": 6,
      "outputs": []
    },
    {
      "cell_type": "code",
      "source": [
        "print(similarity_matrix)"
      ],
      "metadata": {
        "colab": {
          "base_uri": "https://localhost:8080/"
        },
        "id": "qZfvJXE_ows9",
        "outputId": "8e4a618b-fe62-4090-a959-548decd886e3"
      },
      "execution_count": 7,
      "outputs": [
        {
          "output_type": "stream",
          "name": "stdout",
          "text": [
            "[[1.         0.28867513]\n",
            " [0.28867513 1.        ]]\n"
          ]
        }
      ]
    },
    {
      "cell_type": "code",
      "source": [
        "print('Resume matches by: '+str(round(similarity_matrix[1][0]*100))+ '%')"
      ],
      "metadata": {
        "colab": {
          "base_uri": "https://localhost:8080/"
        },
        "id": "vT0ZkH-9o3JS",
        "outputId": "0f029902-5215-4ff2-ba42-7c15229975f6"
      },
      "execution_count": 12,
      "outputs": [
        {
          "output_type": "stream",
          "name": "stdout",
          "text": [
            "Resume matches by: 29%\n"
          ]
        }
      ]
    },
    {
      "cell_type": "markdown",
      "source": [
        "AND YOU ARE GOOD TO GO,TRY IT ON RIGHT NOW!!!"
      ],
      "metadata": {
        "id": "rj9Ko-VHqqNt"
      }
    }
  ]
}